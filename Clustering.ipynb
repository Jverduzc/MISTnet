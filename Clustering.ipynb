{
  "cells": [
    {
      "cell_type": "code",
      "execution_count": 5,
      "id": "d9c98781",
      "metadata": {
        "id": "d9c98781"
      },
      "outputs": [],
      "source": [
        "import sys\n",
        "import os\n",
        "import copy\n",
        "import math\n",
        "import pandas as pd\n",
        "import numpy as np\n",
        "from sympy import *"
      ]
    },
    {
      "cell_type": "code",
      "execution_count": null,
      "id": "38f73e99",
      "metadata": {},
      "outputs": [],
      "source": [
        "import matplotlib.pyplot as plt\n",
        "import plotly.graph_objects as go\n",
        "from plotly.subplots import make_subplots\n",
        "import ipywidgets as widgets\n",
        "from IPython.display import clear_output\n",
        "#from google.colab import output\n",
        "#output.enable_custom_widget_manager()"
      ]
    },
    {
      "cell_type": "code",
      "execution_count": null,
      "id": "d9761a6a",
      "metadata": {},
      "outputs": [],
      "source": [
        "import tensorflow as tf\n",
        "import keras\n",
        "from keras import initializers\n",
        "from keras.layers import Input, Dropout, BatchNormalization, Conv3DTranspose, concatenate, Dense, Conv3D, Flatten, MaxPooling3D\n",
        "from keras.models import Sequential\n",
        "import keras.backend as K\n",
        "tf.keras.utils.set_random_seed(0)\n",
        "\n",
        "from sklearn.cluster import AgglomerativeClustering"
      ]
    },
    {
      "cell_type": "code",
      "execution_count": null,
      "id": "8XrQzFBokLx3",
      "metadata": {
        "id": "8XrQzFBokLx3"
      },
      "outputs": [],
      "source": [
        "print(\"Num GPUs Available: \", len(tf.config.list_physical_devices('GPU')))"
      ]
    },
    {
      "cell_type": "code",
      "execution_count": null,
      "id": "c11376d1",
      "metadata": {},
      "outputs": [],
      "source": []
    },
    {
      "cell_type": "code",
      "execution_count": null,
      "id": "fa6230eb",
      "metadata": {
        "colab": {
          "base_uri": "https://localhost:8080/"
        },
        "id": "KZxqA1mmG_nz",
        "outputId": "f5e961ef-3ea3-43d3-cf50-b7bfeaf1a723"
      },
      "outputs": [],
      "source": [
        "# TRAINING DATA\n",
        "\n",
        "paths = [x[0] for x in os.walk('train/')][1:]"
      ]
    },
    {
      "cell_type": "code",
      "execution_count": null,
      "id": "6a2c010e",
      "metadata": {
        "colab": {
          "base_uri": "https://localhost:8080/"
        },
        "id": "02ORxH_vZNOC",
        "outputId": "14695c44-4520-4415-9722-b9e73c72ff93"
      },
      "outputs": [],
      "source": [
        "# VALIDATION DATA\n",
        "\n",
        "validation_paths = [x[0] for x in os.walk('validation/')][1:]"
      ]
    },
    {
      "cell_type": "code",
      "execution_count": null,
      "id": "47afca7f",
      "metadata": {
        "colab": {
          "base_uri": "https://localhost:8080/"
        },
        "id": "sdo0vGzToLAJ",
        "outputId": "dbac36c4-8629-4ba1-b912-712f96705993"
      },
      "outputs": [],
      "source": [
        "# TESTING DATA\n",
        "\n",
        "testing_paths = [x[0] for x in os.walk('test/')][1:]"
      ]
    },
    {
      "cell_type": "markdown",
      "id": "927b91d7",
      "metadata": {
        "id": "yxkN6Bos4wrU"
      },
      "source": [
        "# Cluster Analysis \n",
        "In the following cells we perform cluster analysis to compare hotspots produced by the MD simulation and the predictions made by the CNN. "
      ]
    },
    {
      "cell_type": "code",
      "execution_count": null,
      "id": "362ab1fa",
      "metadata": {
        "id": "-qn0BmGQ6-pY"
      },
      "outputs": [],
      "source": [
        "def get_clusters(temp_grid):\n",
        "  x = []\n",
        "  y = []\n",
        "  z = []\n",
        "  temp = []\n",
        "  for i in range(16):\n",
        "    for j in range(32):\n",
        "      for k in range(32):\n",
        "        if temp_grid[i,j,k] >= 1.8: #temp cut-off\n",
        "          x.append(i+1)\n",
        "          y.append(j+1)\n",
        "          z.append(k+1)\n",
        "          temp.append(temp_grid[i,j,k])\n",
        "  \n",
        "  df = pd.DataFrame(temp,columns=['Temperature'])\n",
        "  df['X'] = x\n",
        "  df['Y'] = y\n",
        "  df['Z'] = z\n",
        "\n",
        "  pos = df[['X','Y','Z']].values\n",
        "  agglo = AgglomerativeClustering(n_clusters=None, distance_threshold=1.8, linkage='single').fit(pos)\n",
        "  df['Cluster ID'] = agglo.labels_\n",
        "\n",
        "  return df"
      ]
    },
    {
      "cell_type": "code",
      "execution_count": null,
      "id": "a24ae42d",
      "metadata": {
        "id": "XdRCjJNX7ivF"
      },
      "outputs": [],
      "source": [
        "def analyze_clusters(df):\n",
        "  dataframe = df.copy()\n",
        "  vols = []\n",
        "  mean_temps = []\n",
        "  std_temps = []\n",
        "  cms = []\n",
        "  mis = []\n",
        "  #pa1 = []\n",
        "  #pa2 = []\n",
        "  #pa3 = []\n",
        "  ids = []\n",
        "  #filt = dataframe[dataframe['New ID']<100].dropna()\n",
        "  for i in range(int(dataframe['Cluster ID'].max())+1):\n",
        "    if i in dataframe['Cluster ID'].tolist():\n",
        "      tmp = dataframe[dataframe['Cluster ID'] == i]\n",
        "      v = len(tmp)*4\n",
        "      mean = np.mean(tmp['Temperature']*1000)\n",
        "      std = np.std(tmp['Temperature']*1000)\n",
        "      m = len(tmp)\n",
        "      cm_x = tmp['X'].sum()/m\n",
        "      cm_y = tmp['Y'].sum()/m\n",
        "      cm_z = tmp['Z'].sum()/m\n",
        "      cm = np.array([cm_x,cm_y,cm_z])\n",
        "      r_i = tmp[['X','Y','Z']].values\n",
        "      i_xx = 0\n",
        "      i_yy = 0\n",
        "      i_zz = 0\n",
        "      i_xy = 0\n",
        "      i_xz = 0\n",
        "      i_yz = 0\n",
        "      for j in range(len(tmp)):\n",
        "        i_xx += (r_i[j][1]-cm_y)**2 + (r_i[j][2]-cm_z)**2\n",
        "        i_yy += (r_i[j][0]-cm_x)**2 + (r_i[j][2]-cm_z)**2\n",
        "        i_zz += (r_i[j][0]-cm_x)**2 + (r_i[j][1]-cm_y)**2\n",
        "\n",
        "        i_xy += -(r_i[j][0]-cm_x)*(r_i[j][1]-cm_y)\n",
        "        i_xz += -(r_i[j][0]-cm_x)*(r_i[j][2]-cm_z)\n",
        "        i_yz += -(r_i[j][1]-cm_y)*(r_i[j][2]-cm_z)\n",
        "\n",
        "      i_xx = np.around(i_xx,decimals=3)\n",
        "      i_yy = np.around(i_yy,decimals=3)\n",
        "      i_zz = np.around(i_zz,decimals=3)\n",
        "      i_xy = np.around(i_xy,decimals=3)\n",
        "      i_xz = np.around(i_xz,decimals=3)\n",
        "      i_yz = np.around(i_yz,decimals=3)\n",
        "\n",
        "      i_tensor = Matrix([[i_xx,i_xy,i_xz],[i_xy,i_yy,i_yz],[i_xz,i_yz,i_zz]])\n",
        "      #try:\n",
        "      i_diag = i_tensor.diagonalize()[1]\n",
        "      #except:\n",
        "        #i_diag = 'Diagonalization failed'\n",
        "      vols.append(v)\n",
        "      mean_temps.append(mean)\n",
        "      std_temps.append(std)\n",
        "      cms.append(cm)\n",
        "      mis.append(i_diag)\n",
        "      ids.append(i)\n",
        "    else:\n",
        "      pass\n",
        "  \n",
        "  df_clust = pd.DataFrame(ids, columns=['cluster id'])\n",
        "  df_clust['volume'] = vols\n",
        "  df_clust['mean T (K)'] = mean_temps\n",
        "  df_clust['std T (K)'] = std_temps\n",
        "  df_clust['R center of mass'] = cms\n",
        "  df_clust['moment of inertia'] = mis\n",
        "  return df_clust"
      ]
    },
    {
      "cell_type": "code",
      "execution_count": null,
      "id": "fb50b01c",
      "metadata": {
        "id": "f_NPdsZF8YEP"
      },
      "outputs": [],
      "source": [
        "def plot_clusters(md,pred):\n",
        "  fig = make_subplots(rows=1, cols=2, specs=[[{\"type\": \"scatter3d\"},{\"type\": \"scatter3d\"}]],\n",
        "                    subplot_titles=[\"MD Clusters\",\"CNN Clusters\"], horizontal_spacing = 0.1, vertical_spacing = 0.1)\n",
        "  fig.update_layout(autosize=False, width=1200, height=800) \n",
        "  trace_1 = go.Scatter3d(x = md['X'], y = md['Y'], z=md['Z'], hovertemplate = 'Cluster ID: %{marker.color:.2f}<extra></extra>',\n",
        "                      mode='markers',  marker=dict(symbol='square', colorscale='rainbow', color = md['Cluster ID']), showlegend=False)\n",
        "  fig.add_trace(trace_1, row=1, col=1)\n",
        "  trace_2 = go.Scatter3d(x = pred['X'], y = pred['Y'], z=pred['Z'], hovertemplate = 'Cluster ID: %{marker.color:.2f}<extra></extra>',\n",
        "                      mode='markers',  marker=dict(symbol='square', colorscale='rainbow', color = pred['Cluster ID']), showlegend=False)\n",
        "  fig.add_trace(trace_2, row=1, col=2)\n",
        "\n",
        "  return fig"
      ]
    },
    {
      "cell_type": "code",
      "execution_count": null,
      "id": "b7f4bf12",
      "metadata": {
        "id": "rtRb8l4w7BHd"
      },
      "outputs": [],
      "source": [
        "md_temp = np.load(str(validation_paths[1])+'/output.npy')/1000\n",
        "pred_temp = np.load('results/'+str(validation_paths[1])+'/prediction.npy')\n",
        "\n",
        "md_1 = get_clusters(md_temp)\n",
        "pred_1 = get_clusters(pred_temp)\n",
        "\n",
        "md_clust = analyze_clusters(md_1)\n",
        "pred_clust = analyze_clusters(pred_1)"
      ]
    },
    {
      "cell_type": "code",
      "execution_count": null,
      "id": "670367f8",
      "metadata": {
        "colab": {
          "base_uri": "https://localhost:8080/",
          "height": 817
        },
        "id": "Eie6xA577X2H",
        "outputId": "170ac025-7ec4-4f4a-d427-cc05665eaaaa"
      },
      "outputs": [],
      "source": [
        "plot_clusters(md_1,pred_1)"
      ]
    },
    {
      "cell_type": "code",
      "execution_count": null,
      "id": "70d8e2be",
      "metadata": {
        "id": "k4qJEPY07X5Y"
      },
      "outputs": [],
      "source": [
        "def visualize(md_1, pred_1, md_clust, pred_clust):\n",
        "  fig = make_subplots(rows=1, cols=3, specs=[[{\"type\": \"scatter3d\"},{\"type\": \"scatter3d\"},{\"type\": \"scatter\"}]],\n",
        "                      subplot_titles=[\"MD Clusters\",\"CNN Clusters\",\"Temp vs Volume\"], horizontal_spacing = 0.1, vertical_spacing = 0.1)\n",
        "  fig.update_layout(autosize=False, width=1800, height=600) \n",
        "\n",
        "\n",
        "  ## MD SIMULATION CLUSTERS ##\n",
        "  tmp = md_1\n",
        "  trace_1 = go.Scatter3d(x = tmp['X'], y = tmp['Y'], z = tmp['Z'],text=tmp['Cluster ID'],\n",
        "                        mode='markers', marker=dict(size=8, line=dict(width=0), symbol='square', colorscale='rainbow', color = tmp['Cluster ID']), showlegend=False, scene='scene1')\n",
        " \n",
        "  fig.add_trace(trace_1, row=1, col=1)\n",
        "\n",
        "  ## CNN PREDICTED CLUSTERS ##\n",
        "  tmp2 = pred_1\n",
        "  trace_4 = go.Scatter3d(x = tmp2['X'], y = tmp2['Y'], z = tmp2['Z'],text=tmp2['Cluster ID'],\n",
        "                        mode='markers', marker=dict(size=8, line=dict(width=0), symbol='square', colorscale='rainbow', color = tmp2['Cluster ID']), showlegend=False, scene='scene2')\n",
        "\n",
        "\n",
        "  fig.add_trace(trace_4, row=1, col=2)\n",
        "\n",
        "\n",
        "\n",
        "  ### Hotspot Temperature vs Volume ###\n",
        "  trace_7 = go.Scatter(x=md_clust['volume'],y=md_clust['mean T (K)'],error_y=dict(type='data', array=md_clust['std T (K)'],visible=True),text=md_clust['cluster id'],\n",
        "                      mode='markers',marker=dict(symbol='square', color = 'green',size=18),name='MD')\n",
        "  trace_8 = go.Scatter(x=pred_clust['volume'],y=pred_clust['mean T (K)'],error_y=dict(type='data', array=pred_clust['std T (K)'],visible=True),text=md_clust['cluster id'],\n",
        "                        mode='markers',marker=dict(symbol='circle', color = 'red',size=18),name='CNN')\n",
        "\n",
        "  fig.add_trace(trace_7, row=1, col=3)\n",
        "  fig.add_trace(trace_8, row=1, col=3)\n",
        "  fig.update_xaxes(title=\"Volume\")\n",
        "  fig.update_yaxes(title=\"Temperature (K)\")\n",
        "\n",
        "  ### Hotspot Moment inertia parity plot ###\n",
        "  #trace_9 = go.Scatter(x=np.log10(md_clust['moment of inertia']),y=np.log10(pred_clust['moment of inertia']),\n",
        "   #                   mode='markers',marker=dict(symbol='square',color='green',size=14), showlegend=False)\n",
        "\n",
        "  #fig.add_trace(trace_9, row=2, col=2)\n",
        "  #fig.update_yaxes(title=\"Predicted log(moment of inertia)\")\n",
        "  #fig.update_xaxes(title=\"MD Simulated log(moment of inertia))\")\n",
        "\n",
        "  #def cam_change(layout, camera):\n",
        "  #   fig.layout.scene2.camera = camera\n",
        "  #fig.layout.scene1.on_change(cam_change, 'camera')\n",
        "  return fig"
      ]
    },
    {
      "cell_type": "code",
      "execution_count": null,
      "id": "a4982e25",
      "metadata": {
        "colab": {
          "base_uri": "https://localhost:8080/",
          "height": 637
        },
        "id": "sXjtJnug9QqB",
        "outputId": "d119760c-3f6d-455b-f947-bcacc686e5d8"
      },
      "outputs": [],
      "source": [
        "visualize(md_1,pred_1,md_clust,pred_clust)"
      ]
    },
    {
      "cell_type": "code",
      "execution_count": null,
      "id": "aa004479",
      "metadata": {
        "colab": {
          "base_uri": "https://localhost:8080/"
        },
        "id": "-7rDHgJW-45_",
        "outputId": "1568cd97-5094-4329-f3e1-dcc57985a85b"
      },
      "outputs": [],
      "source": [
        "# CLUSTER ANALYSIS TRAINING DATA\n",
        "\n",
        "for i, title in enumerate(paths):\n",
        "  print(i)\n",
        "  md_temp = np.load(str(title)+'/output.npy')/1000\n",
        "  pred_temp = np.load('results/'+str(title)+'/prediction.npy')\n",
        "\n",
        "  md_1 = get_clusters(md_temp)\n",
        "  pred_1 = get_clusters(pred_temp)\n",
        "\n",
        "  #md_corr, pred_corr, over = overlap(md_1,pred_1)\n",
        "  md_clust = analyze_clusters(md_1)\n",
        "  pred_clust = analyze_clusters(pred_1)\n",
        "\n",
        "  fig = visualize(md_1,pred_1,md_clust,pred_clust)\n",
        "\n",
        "  fig.write_html('results/'+str(title)+'/cluster_1.8.html')"
      ]
    },
    {
      "cell_type": "code",
      "execution_count": null,
      "id": "13fc976e",
      "metadata": {
        "colab": {
          "base_uri": "https://localhost:8080/"
        },
        "id": "gqBW_Zy2_IuM",
        "outputId": "4f79255a-1c0a-4649-d3af-73577819dc85"
      },
      "outputs": [],
      "source": [
        "# CLUSTER ANALYSIS VALIDATION DATA\n",
        "\n",
        "for i, title in enumerate(validation_paths):\n",
        "  print(i)\n",
        "  md_temp = np.load(str(title)+'/output.npy')/1000\n",
        "  pred_temp = np.load('results/'+str(title)+'/prediction.npy')\n",
        "\n",
        "  md_1 = get_clusters(md_temp)\n",
        "  pred_1 = get_clusters(pred_temp)\n",
        "\n",
        "  #md_corr, pred_corr, over = overlap(md_1,pred_1)\n",
        "  md_clust = analyze_clusters(md_1)\n",
        "  pred_clust = analyze_clusters(pred_1)\n",
        "\n",
        "  fig = visualize(md_1,pred_1,md_clust,pred_clust)\n",
        "\n",
        "  fig.write_html('results/'+str(title)+'/cluster_1.8.html')"
      ]
    },
    {
      "cell_type": "code",
      "execution_count": null,
      "id": "64480a96",
      "metadata": {
        "colab": {
          "base_uri": "https://localhost:8080/"
        },
        "id": "vrAf3STHOoeH",
        "outputId": "ed3a77ed-80d4-4102-93da-e88dbd5fe93e"
      },
      "outputs": [],
      "source": [
        "# CLUSTER ANALYSIS TESTING DATA\n",
        "\n",
        "for i, title in enumerate(testing_paths):\n",
        "  print(i)\n",
        "  md_temp = np.load(str(title)+'/output.npy')/1000\n",
        "  pred_temp = np.load('results/'+str(title)+'/prediction.npy')\n",
        "\n",
        "  md_1 = get_clusters(md_temp)\n",
        "  pred_1 = get_clusters(pred_temp)\n",
        "\n",
        "  #md_corr, pred_corr, over = overlap(md_1,pred_1)\n",
        "  md_clust = analyze_clusters(md_1)\n",
        "  pred_clust = analyze_clusters(pred_1)\n",
        "\n",
        "  fig = visualize(md_1,pred_1,md_clust,pred_clust)\n",
        "\n",
        "  fig.write_html('results/'+str(title)+'/cluster_1.8.html')"
      ]
    },
    {
      "cell_type": "markdown",
      "id": "2b3b995f",
      "metadata": {
        "id": "OjhLKedlE44u"
      },
      "source": [
        "Calculate the overlap between clusters in the MD and clusters in the CNN. (Under development)"
      ]
    },
    {
      "cell_type": "code",
      "execution_count": null,
      "id": "579a5fb9",
      "metadata": {
        "id": "RJZV8Nfdafmw"
      },
      "outputs": [],
      "source": [
        "def get_overlap(df1,df2):\n",
        "  md = df1.copy()\n",
        "  pred = df2.copy()\n",
        "  overlap_data = []\n",
        "  for i in range(md['Cluster ID'].max()+1):\n",
        "    for j in range(pred['Cluster ID'].max()+1):\n",
        "      md_tmp = md[md['Cluster ID'] == i]\n",
        "      pred_tmp = pred[pred['Cluster ID'] == j]\n",
        "      cnn_over = [v for v in md_tmp[['X','Y','Z']].values.tolist() if v in pred_tmp[['X','Y','Z']].values.tolist()]\n",
        "      cnn_ratio = len(cnn_over)/len(pred_tmp)\n",
        "      md_over = [v for v in pred_tmp[['X','Y','Z']].values.tolist() if v in md_tmp[['X','Y','Z']].values.tolist()]\n",
        "      md_ratio = len(md_over)/len(md_tmp)\n",
        "      overlap_data.append([i,j,md_ratio,cnn_ratio])\n",
        "  df_over = pd.DataFrame(overlap_data,columns=['MD id','Pred id','MD ratio','CNN ratio'])\n",
        "  df_over_ = df_over[df_over['MD ratio']>0].reset_index(drop=True)\n",
        "  df_md_over = df_over_[df_over_.duplicated(subset=['MD id'],keep=False)].copy()#.reset_index(drop=True)\n",
        "  df_cnn_over = df_over_[df_over_.duplicated(subset=['Pred id'],keep=False)].copy()#.reset_index(drop=True)\n",
        "  df_cnn_over = df_cnn_over.sort_values(by='Pred id')\n",
        "  indx = list(df_md_over.index)\n",
        "  for i in list(df_cnn_over.index):\n",
        "    if i not in indx:\n",
        "      indx.append(i)\n",
        "  df_single_over = df_over_.drop(indx)\n",
        "  df_single_over['New id'] = df_single_over['MD id']\n",
        "  n_id = []\n",
        "  for id in df_md_over['MD id'].unique():\n",
        "    tmp = df_md_over[df_md_over['MD id']==id].reset_index(drop=True)\n",
        "    combined_ratio = 0\n",
        "    for n in range(len(tmp)):\n",
        "      combined_ratio+=tmp.iloc[n][2]\n",
        "    if combined_ratio > 0.333:\n",
        "      for l in range(len(tmp)):\n",
        "        n_id.append(id)\n",
        "    else:\n",
        "      for l in range(len(tmp)):\n",
        "        n_id.append(None)\n",
        "  df_md_over['New id'] = n_id\n",
        "  n_id = []\n",
        "  for i,id in enumerate(df_cnn_over['Pred id'].unique()):\n",
        "    tmp = df_cnn_over[df_cnn_over['Pred id']==id].reset_index(drop=True)\n",
        "    combined_ratio = 0\n",
        "    for n in range(len(tmp)):\n",
        "      combined_ratio+=tmp.iloc[n][3]\n",
        "    if id in df_md_over['Pred id'].unique():\n",
        "      for l in range(len(tmp)):\n",
        "        tmp2 = df_md_over[df_md_over['Pred id']==id].reset_index(drop=True)\n",
        "        n_id.append(tmp2['New id'][0])\n",
        "    elif combined_ratio > 0.333:\n",
        "      for l in range(len(tmp)):\n",
        "        n_id.append(max(df_md_over['New id'].max(),df_single_over['New id'].max())+i+1)\n",
        "    else:\n",
        "      for l in range(len(tmp)):\n",
        "        n_id.append(None)\n",
        "  df_cnn_over['New id'] = n_id\n",
        "  df_over_new = pd.concat([df_single_over,df_md_over,df_cnn_over]).drop_duplicates(subset=['MD id','Pred id']).reset_index(drop=True)\n",
        "  nan_ls = [None]*len(md)\n",
        "  md['New ID'] = nan_ls\n",
        "  for m_id in df_over_new['MD id'].unique():\n",
        "    for i in range(len(md)):\n",
        "      if md['Cluster ID'][i]==m_id:\n",
        "        tmp = df_over_new[df_over_new['MD id']==m_id].copy()\n",
        "        md['New ID'][i] = tmp.copy()['New id'].iloc[0]\n",
        "  nan_ls = [None]*len(pred)\n",
        "  pred['New ID'] = nan_ls\n",
        "  for p_id in df_over_new['Pred id'].unique():\n",
        "    for i in range(len(pred)):\n",
        "      if pred['Cluster ID'][i]==p_id:\n",
        "        tmp = df_over_new[df_over_new['Pred id']==p_id].copy()\n",
        "        pred['New ID'][i] = tmp.copy()['New id'].iloc[0] \n",
        "\n",
        "  return md, pred, df_over     "
      ]
    },
    {
      "cell_type": "code",
      "execution_count": null,
      "id": "5af8731a",
      "metadata": {
        "id": "Va-ZyEdONFJk"
      },
      "outputs": [],
      "source": [
        "def analyze_clusters_overlap(df):\n",
        "  dataframe = df.copy()\n",
        "  vols = []\n",
        "  mean_temps = []\n",
        "  std_temps = []\n",
        "  cms = []\n",
        "  mis = []\n",
        "  #pa1 = []\n",
        "  #pa2 = []\n",
        "  #pa3 = []\n",
        "  ids = []\n",
        "  min_mi = []\n",
        "  max_mi = []\n",
        "  mean_mi = []\n",
        "  filt = dataframe.dropna()\n",
        "  for i in range(int(filt['New ID'].max())+1):\n",
        "    if i in filt['New ID'].tolist():\n",
        "      tmp = filt[filt['New ID'] == i]\n",
        "      v = len(tmp)*4\n",
        "      mean = np.mean(tmp['Temperature']*1000)\n",
        "      std = np.std(tmp['Temperature']*1000)\n",
        "      m = len(tmp)\n",
        "      cm_x = tmp['X'].sum()/m\n",
        "      cm_y = tmp['Y'].sum()/m\n",
        "      cm_z = tmp['Z'].sum()/m\n",
        "      cm = np.array([cm_x,cm_y,cm_z])\n",
        "      r_i = tmp[['X','Y','Z']].values\n",
        "      i_xx = 0\n",
        "      i_yy = 0\n",
        "      i_zz = 0\n",
        "      i_xy = 0\n",
        "      i_xz = 0\n",
        "      i_yz = 0\n",
        "      for j in range(len(tmp)):\n",
        "        i_xx += (r_i[j][1]-cm_y)**2 + (r_i[j][2]-cm_z)**2\n",
        "        i_yy += (r_i[j][0]-cm_x)**2 + (r_i[j][2]-cm_z)**2\n",
        "        i_zz += (r_i[j][0]-cm_x)**2 + (r_i[j][1]-cm_y)**2\n",
        "\n",
        "        i_xy += -(r_i[j][0]-cm_x)*(r_i[j][1]-cm_y)\n",
        "        i_xz += -(r_i[j][0]-cm_x)*(r_i[j][2]-cm_z)\n",
        "        i_yz += -(r_i[j][1]-cm_y)*(r_i[j][2]-cm_z)\n",
        "\n",
        "      i_xx = np.around(i_xx,decimals=3)\n",
        "      i_yy = np.around(i_yy,decimals=3)\n",
        "      i_zz = np.around(i_zz,decimals=3)\n",
        "      i_xy = np.around(i_xy,decimals=3)\n",
        "      i_xz = np.around(i_xz,decimals=3)\n",
        "      i_yz = np.around(i_yz,decimals=3)\n",
        "\n",
        "      i_tensor = Matrix([[i_xx,i_xy,i_xz],[i_xy,i_yy,i_yz],[i_xz,i_yz,i_zz]])\n",
        "      #try:\n",
        "      i_diag = i_tensor.diagonalize()[1]\n",
        "      #except:\n",
        "        #i_diag = 'Diagonalization failed'\n",
        "      vols.append(v)\n",
        "      mean_temps.append(mean)\n",
        "      std_temps.append(std)\n",
        "      cms.append(cm)\n",
        "      mis.append(i_diag)\n",
        "      min_mi.append(float(min(i_diag[0],i_diag[4],i_diag[8])))\n",
        "      max_mi.append(float(max(i_diag[0],i_diag[4],i_diag[8])))\n",
        "      mean_mi.append(float(np.mean([i_diag[0],i_diag[4],i_diag[8]])))\n",
        "      ids.append(i)\n",
        "    else:\n",
        "      pass\n",
        "  \n",
        "  df_clust = pd.DataFrame(ids, columns=['cluster id'])\n",
        "  df_clust['volume'] = vols\n",
        "  df_clust['mean T (K)'] = mean_temps\n",
        "  df_clust['std T (K)'] = std_temps\n",
        "  df_clust['R center of mass'] = cms\n",
        "  df_clust['moment of inertia'] = mis\n",
        "  df_clust['min principal MI'] = min_mi\n",
        "  df_clust['max principal MI'] = max_mi\n",
        "  df_clust['mean principal MI'] = mean_mi\n",
        "  return df_clust"
      ]
    },
    {
      "cell_type": "code",
      "execution_count": null,
      "id": "9ddc6d18",
      "metadata": {
        "id": "GdmlRNOcirgV"
      },
      "outputs": [],
      "source": [
        "def visualize_overlap(md_corr, pred_corr, md_clust, pred_clust):\n",
        "  fig = make_subplots(rows=2, cols=2, specs=[[{\"type\": \"scatter3d\"},{\"type\": \"scatter3d\"}],\n",
        "                                            [{\"type\": \"scatter\"},{\"type\": \"scatter\"}]],\n",
        "                      subplot_titles=[\"MD Clusters\",\"CNN Clusters\",\"Temp vs Volume\",\"Temp vs Principal\"], horizontal_spacing = 0.1, vertical_spacing = 0.1)\n",
        "  fig.update_layout(autosize=False, width=1200, height=800) \n",
        "\n",
        "\n",
        "  ## MD SIMULATION CLUSTERS ##\n",
        "  tmp = md_corr.dropna()\n",
        "  trace_1 = go.Scatter3d(x = tmp['X'], y = tmp['Y'], z = tmp['Z'],text=tmp['New ID'],\n",
        "                        mode='markers', marker=dict(size=8, line=dict(width=0), symbol='square', colorscale='rainbow', color = tmp['New ID']), showlegend=False, scene='scene1')\n",
        "  \n",
        "  tmp = md_corr[md_corr['New ID'].isnull()]\n",
        "  trace_2 = go.Scatter3d(x = tmp['X'], y = tmp['Y'], z = tmp['Z'],text=tmp['Cluster ID'],\n",
        "                        mode='markers', marker=dict(size=8, line=dict(width=0), symbol='square', color = 'black'), showlegend=False, scene='scene1')    \n",
        "  fig.add_trace(trace_1, row=1, col=1)\n",
        "  fig.add_trace(trace_2, row=1, col=1)\n",
        "\n",
        "  ## CNN PREDICTED CLUSTERS ##\n",
        "  tmp2 = pred_corr.dropna()\n",
        "  trace_3 = go.Scatter3d(x = tmp2['X'], y = tmp2['Y'], z = tmp2['Z'],text=tmp2['New ID'],\n",
        "                        mode='markers', marker=dict(size=8, line=dict(width=0), symbol='square', colorscale='rainbow', color = tmp2['New ID']), showlegend=False, scene='scene2')\n",
        "  \n",
        "  tmp2 = pred_corr[pred_corr['New ID'].isnull()]\n",
        "  trace_4 = go.Scatter3d(x = tmp2['X'], y = tmp2['Y'], z = tmp2['Z'],text=tmp2['Cluster ID'],\n",
        "                        mode='markers', marker=dict(size=8, line=dict(width=0), symbol='square', color = 'black'), showlegend=False, scene='scene2')\n",
        "\n",
        "  fig.add_trace(trace_3, row=1, col=2)\n",
        "  fig.add_trace(trace_4, row=1, col=2)\n",
        "\n",
        "\n",
        "  ### Hotspot Temperature vs Volume ###\n",
        "  trace_5 = go.Scatter(x=md_clust['volume'],y=md_clust['mean T (K)'],error_y=dict(type='data', array=md_clust['std T (K)'],visible=True),text=md_clust['cluster id'],\n",
        "                      mode='markers',marker=dict(symbol='square',colorscale='rainbow', color = md_clust['cluster id'],size=18),name='MD')\n",
        "  trace_6 = go.Scatter(x=pred_clust['volume'],y=pred_clust['mean T (K)'],error_y=dict(type='data', array=pred_clust['std T (K)'],visible=True),text=md_clust['cluster id'],\n",
        "                        mode='markers',marker=dict(symbol='circle',colorscale='rainbow', color = md_clust['cluster id'],size=18),name='CNN')\n",
        "\n",
        "  fig.add_trace(trace_5, row=2, col=1)\n",
        "  fig.add_trace(trace_6, row=2, col=1)\n",
        "  fig.update_xaxes(title=\"Volume\", row=2, col=1)\n",
        "  fig.update_yaxes(title=\"Temperature (K)\", row=2, col=1)\n",
        "\n",
        "  ### Hotspot Moment Inertia vs Temperature ###\n",
        "  trace_7 = go.Scatter(x=md_clust['min principal MI'],y=md_clust['mean T (K)'],error_y=dict(type='data', array=md_clust['std T (K)'],visible=True),text=md_clust['cluster id'],\n",
        "                      mode='markers',marker=dict(symbol='square',color='green',size=14), showlegend=False,name='MD min principal axis')\n",
        "  \n",
        "  trace_8 = go.Scatter(x=pred_clust['min principal MI'],y=pred_clust['mean T (K)'],error_y=dict(type='data', array=pred_clust['std T (K)'],visible=True),text=pred_clust['cluster id'],\n",
        "                      mode='markers',marker=dict(symbol='circle',color='green',size=14), showlegend=False,name='CNN min principal axis')\n",
        "  \n",
        "  trace_9 = go.Scatter(x=md_clust['max principal MI'],y=md_clust['mean T (K)'],error_y=dict(type='data', array=md_clust['std T (K)'],visible=True),text=md_clust['cluster id'],\n",
        "                      mode='markers',marker=dict(symbol='square',color='red',size=14), showlegend=False,name='MD max principal axis')\n",
        "  \n",
        "  trace_10 = go.Scatter(x=pred_clust['max principal MI'],y=pred_clust['mean T (K)'],error_y=dict(type='data', array=pred_clust['std T (K)'],visible=True),text=pred_clust['cluster id'],\n",
        "                      mode='markers',marker=dict(symbol='circle',color='red',size=14), showlegend=False,name='CNN max principal axis')\n",
        "  \n",
        "  trace_11 = go.Scatter(x=md_clust['mean principal MI'],y=md_clust['mean T (K)'],error_y=dict(type='data', array=md_clust['std T (K)'],visible=True),text=md_clust['cluster id'],\n",
        "                      mode='markers',marker=dict(symbol='square',color='blue',size=14), showlegend=False,name='MD mean principal axis')\n",
        "  \n",
        "  trace_12 = go.Scatter(x=pred_clust['mean principal MI'],y=pred_clust['mean T (K)'],error_y=dict(type='data', array=pred_clust['std T (K)'],visible=True),text=pred_clust['cluster id'],\n",
        "                      mode='markers',marker=dict(symbol='circle',color='blue',size=14), showlegend=False,name='CNN mean principal axis')\n",
        "  \n",
        "  fig.add_trace(trace_7, row=2, col=2)\n",
        "  fig.add_trace(trace_8, row=2, col=2)\n",
        "  fig.add_trace(trace_9, row=2, col=2)\n",
        "  fig.add_trace(trace_10, row=2, col=2)\n",
        "  fig.add_trace(trace_11, row=2, col=2)\n",
        "  fig.add_trace(trace_12, row=2, col=2)\n",
        "  fig.update_xaxes(title=\"Principal Moment of Inertia\", row=2, col=2)\n",
        "  fig.update_yaxes(title=\"Temperature (K)\", row=2, col=2)\n",
        "\n",
        "\n",
        "  #def cam_change(layout, camera):\n",
        "  #   fig.layout.scene2.camera = camera\n",
        "  #fig.layout.scene1.on_change(cam_change, 'camera')\n",
        "  return fig"
      ]
    },
    {
      "cell_type": "code",
      "execution_count": null,
      "id": "e74da189",
      "metadata": {
        "colab": {
          "base_uri": "https://localhost:8080/"
        },
        "id": "Ou86E8xjEZEM",
        "outputId": "9869236a-4e34-409a-8c72-35fb5efe8ea5"
      },
      "outputs": [],
      "source": [
        "md_temp = np.load(str(testing_paths[0])+'/output.npy')/1000\n",
        "pred_temp = np.load('results/'+str(testing_paths[0])+'/prediction.npy')\n",
        "\n",
        "md_1 = get_clusters(md_temp)\n",
        "pred_1 = get_clusters(pred_temp)\n",
        "\n",
        "md_clust = analyze_clusters(md_1)\n",
        "pred_clust = analyze_clusters(pred_1)\n",
        "\n",
        "md_1_over, pred_1_over, df_1_over = get_overlap(md_1,pred_1)\n",
        "\n",
        "md_clust_over = analyze_clusters_overlap(md_1_over)\n",
        "pred_clust_over = analyze_clusters_overlap(pred_1_over)\n",
        "\n",
        "test_fig = visualize_overlap(md_1_over,pred_1_over,md_clust_over,pred_clust_over)"
      ]
    },
    {
      "cell_type": "code",
      "execution_count": null,
      "id": "5331af90",
      "metadata": {
        "id": "VNmpIhcGPwI8"
      },
      "outputs": [],
      "source": [
        "test_fig.write_html('results/'+testing_paths[0]+'/overlap_cluster_1.8.html')"
      ]
    },
    {
      "cell_type": "code",
      "execution_count": null,
      "id": "cf1c1b0a",
      "metadata": {
        "id": "5QBWEQNHwLRo"
      },
      "outputs": [],
      "source": [
        "under_locs = md_1_over[md_1_over['New ID'].isnull()][['X','Y','Z']].values\n",
        "under_pred = md_1_over[md_1_over['New ID'].isnull()]\n",
        "over_locs = pred_1_over[pred_1_over['New ID'].isnull()][['X','Y','Z']].values\n",
        "over_pred = pred_1_over[pred_1_over['New ID'].isnull()]"
      ]
    },
    {
      "cell_type": "code",
      "execution_count": null,
      "id": "9bbd8ae2",
      "metadata": {
        "colab": {
          "base_uri": "https://localhost:8080/"
        },
        "id": "gUHAxAkrnmRA",
        "outputId": "6dd0bef6-8828-4985-8d1d-28b1c6733de6"
      },
      "outputs": [],
      "source": [
        "test_inputs = np.load('test/smallPBX_4_mirror_btm/input.npy')\n",
        "test_inputs.shape"
      ]
    },
    {
      "cell_type": "code",
      "execution_count": null,
      "id": "38cbc949",
      "metadata": {
        "id": "0cPgg5UsQaJB"
      },
      "outputs": [],
      "source": [
        "input1 = test_inputs[:,:,:,0]\n",
        "input2 = test_inputs[:,:,:,1]\n",
        "input3 = test_inputs[:,:,:,2]"
      ]
    },
    {
      "cell_type": "code",
      "execution_count": null,
      "id": "90c8c98e",
      "metadata": {
        "colab": {
          "base_uri": "https://localhost:8080/"
        },
        "id": "qx4dw2q2yqaJ",
        "outputId": "8a5a82f8-a78a-48eb-909a-5d174ff59717"
      },
      "outputs": [],
      "source": [
        "input1.shape"
      ]
    },
    {
      "cell_type": "code",
      "execution_count": null,
      "id": "3462338d",
      "metadata": {
        "id": "bvdV_qlYxwwQ"
      },
      "outputs": [],
      "source": [
        "input1_vals = []\n",
        "for i in range(len(under_locs)):\n",
        "  input1_vals.append(input1[under_locs[i][0]-1,under_locs[i][1]-1,under_locs[i][2]-1])\n",
        "\n",
        "input2_vals = []\n",
        "for i in range(len(under_locs)):\n",
        "  input2_vals.append(input2[under_locs[i][0]-1,under_locs[i][1]-1,under_locs[i][2]-1])\n",
        "\n",
        "input3_vals = []\n",
        "for i in range(len(under_locs)):\n",
        "  input3_vals.append(input3[under_locs[i][0]-1,under_locs[i][1]-1,under_locs[i][2]-1])"
      ]
    },
    {
      "cell_type": "code",
      "execution_count": null,
      "id": "5189588e",
      "metadata": {
        "colab": {
          "base_uri": "https://localhost:8080/"
        },
        "id": "HNFXtYfRxEbb",
        "outputId": "bced224c-4530-4404-fe69-915a75bbb6a8"
      },
      "outputs": [],
      "source": [
        "under_pred['Input 1'] = input1_vals\n",
        "under_pred['Input 2'] = input2_vals\n",
        "under_pred['Input 3'] = input3_vals"
      ]
    },
    {
      "cell_type": "code",
      "execution_count": null,
      "id": "f9c8ec3f",
      "metadata": {
        "colab": {
          "base_uri": "https://localhost:8080/",
          "height": 637
        },
        "id": "gs-ME9uMxHwV",
        "outputId": "310c4172-541b-4df7-a02b-21c278f4102e"
      },
      "outputs": [],
      "source": [
        "fig = make_subplots(rows=1, cols=3, specs=[[{\"type\": \"scatter3d\"},{\"type\": \"scatter3d\"},{\"type\": \"scatter3d\"}]],\n",
        "                    subplot_titles=[\"Input 1\",\"Input 2\",\"Input 3\"], horizontal_spacing = 0.1, vertical_spacing = 0.1)\n",
        "fig.update_layout(autosize=False, width=1800, height=600) \n",
        "\n",
        "\n",
        "## Input 1 ##\n",
        "trace_1 = go.Scatter3d(x = under_pred['X'], y = under_pred['Y'], z = under_pred['Z'],mode='markers', \n",
        "                       marker=dict(colorscale='Viridis',size=8,line=dict(width=0),symbol='square',color=under_pred['Input 1'],colorbar=dict(thickness=20,len=0.3,x=0.27,y=0.9)),\n",
        "                       showlegend=False)\n",
        "fig.add_trace(trace_1, row=1, col=1)\n",
        "\n",
        "## Input 2 ##\n",
        "trace_2 = go.Scatter3d(x = under_pred['X'], y = under_pred['Y'], z = under_pred['Z'],mode='markers', \n",
        "                       marker=dict(colorscale='Viridis',size=8,line=dict(width=0),symbol='square',color=under_pred['Input 2'],colorbar=dict(thickness=20,len=0.3,x=0.62,y=0.9)),\n",
        "                       showlegend=False)\n",
        "fig.add_trace(trace_2, row=1, col=2)\n",
        "\n",
        "## Input 3 ##\n",
        "trace_3 = go.Scatter3d(x = under_pred['X'], y = under_pred['Y'], z = under_pred['Z'],mode='markers', \n",
        "                       marker=dict(colorscale='Viridis',size=8,line=dict(width=0),symbol='square',color=under_pred['Input 3'],colorbar=dict(thickness=20,len=0.3,x=1.0,y=0.9)),\n",
        "                       showlegend=False)\n",
        "\n",
        "fig.add_trace(trace_3, row=1, col=3)\n"
      ]
    },
    {
      "cell_type": "code",
      "execution_count": null,
      "id": "9b12b4f5",
      "metadata": {
        "id": "7Y_RQs1L0qAO"
      },
      "outputs": [],
      "source": [
        "input1_vals = []\n",
        "for i in range(len(over_locs)):\n",
        "  input1_vals.append(input1[over_locs[i][0]-1,over_locs[i][1]-1,over_locs[i][2]-1])\n",
        "\n",
        "input2_vals = []\n",
        "for i in range(len(over_locs)):\n",
        "  input2_vals.append(input2[over_locs[i][0]-1,over_locs[i][1]-1,over_locs[i][2]-1])\n",
        "\n",
        "input3_vals = []\n",
        "for i in range(len(over_locs)):\n",
        "  input3_vals.append(input3[over_locs[i][0]-1,over_locs[i][1]-1,over_locs[i][2]-1])"
      ]
    },
    {
      "cell_type": "code",
      "execution_count": null,
      "id": "1250f66d",
      "metadata": {
        "colab": {
          "base_uri": "https://localhost:8080/"
        },
        "id": "JgD4zaFO4Lup",
        "outputId": "7970d703-d857-46bb-ca86-dc7c58c5e0d9"
      },
      "outputs": [],
      "source": [
        "over_pred['Input 1'] = input1_vals\n",
        "over_pred['Input 2'] = input2_vals\n",
        "over_pred['Input 3'] = input3_vals"
      ]
    },
    {
      "cell_type": "code",
      "execution_count": null,
      "id": "f1a2a0fc",
      "metadata": {
        "colab": {
          "base_uri": "https://localhost:8080/",
          "height": 637
        },
        "id": "14HL_hfH4Oim",
        "outputId": "be42d2af-9428-46ad-9374-73aa81582382"
      },
      "outputs": [],
      "source": [
        "fig = make_subplots(rows=1, cols=3, specs=[[{\"type\": \"scatter3d\"},{\"type\": \"scatter3d\"},{\"type\": \"scatter3d\"}]],\n",
        "                    subplot_titles=[\"Input 1\",\"Input 2\",\"Input 3\"], horizontal_spacing = 0.1, vertical_spacing = 0.1)\n",
        "fig.update_layout(autosize=False, width=1700, height=600) \n",
        "\n",
        "\n",
        "## Input 1 ##\n",
        "trace_1 = go.Scatter3d(x = over_pred['X'], y = over_pred['Y'], z = over_pred['Z'],mode='markers', \n",
        "                       marker=dict(colorscale='Viridis',size=8,line=dict(width=0),symbol='square',color=over_pred['Input 1'],colorbar=dict(thickness=20,len=0.3,x=0.27,y=0.9)),\n",
        "                       showlegend=False)\n",
        "fig.add_trace(trace_1, row=1, col=1)\n",
        "\n",
        "## Input 2 ##\n",
        "trace_2 = go.Scatter3d(x = over_pred['X'], y = over_pred['Y'], z = over_pred['Z'],mode='markers', \n",
        "                       marker=dict(colorscale='Viridis',size=8,line=dict(width=0),symbol='square',color=over_pred['Input 2'],colorbar=dict(thickness=20,len=0.3,x=0.62,y=0.9)),\n",
        "                       showlegend=False)\n",
        "fig.add_trace(trace_2, row=1, col=2)\n",
        "\n",
        "## Input 3 ##\n",
        "trace_3 = go.Scatter3d(x = over_pred['X'], y = over_pred['Y'], z = over_pred['Z'],mode='markers', \n",
        "                       marker=dict(colorscale='Viridis',size=8,line=dict(width=0),symbol='square',color=over_pred['Input 3'],colorbar=dict(thickness=20,len=0.3,x=1.0,y=0.9)),\n",
        "                       showlegend=False)\n",
        "\n",
        "fig.add_trace(trace_3, row=1, col=3)"
      ]
    },
    {
      "cell_type": "code",
      "execution_count": null,
      "id": "96c46bc3",
      "metadata": {},
      "outputs": [],
      "source": []
    }
  ],
  "metadata": {
    "colab": {
      "include_colab_link": true,
      "provenance": []
    },
    "kernelspec": {
      "display_name": "python3.8-tf",
      "language": "python",
      "name": "python3"
    },
    "language_info": {
      "codemirror_mode": {
        "name": "ipython",
        "version": 3
      },
      "file_extension": ".py",
      "mimetype": "text/x-python",
      "name": "python",
      "nbconvert_exporter": "python",
      "pygments_lexer": "ipython3",
      "version": "3.8.15 | packaged by conda-forge | (default, Nov 22 2022, 08:49:35) \n[GCC 10.4.0]"
    },
    "vscode": {
      "interpreter": {
        "hash": "069687e559cf93a036115b550730575d289b5217bcf3809ba2c9878e48c8173a"
      }
    }
  },
  "nbformat": 4,
  "nbformat_minor": 5
}
