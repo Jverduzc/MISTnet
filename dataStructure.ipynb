{
  "cells": [
    {
      "cell_type": "markdown",
      "metadata": {
        "id": "view-in-github",
        "colab_type": "text"
      },
      "source": [
        "<a href=\"https://colab.research.google.com/github/Jverduzc/CNN_PBX_Model/blob/master/dataStructure.ipynb\" target=\"_parent\"><img src=\"https://colab.research.google.com/assets/colab-badge.svg\" alt=\"Open In Colab\"/></a>"
      ]
    },
    {
      "cell_type": "code",
      "execution_count": 5,
      "id": "d9c98781",
      "metadata": {
        "id": "d9c98781"
      },
      "outputs": [],
      "source": [
        "import numpy as np"
      ]
    },
    {
      "cell_type": "code",
      "execution_count": 6,
      "id": "0c360ced",
      "metadata": {
        "id": "0c360ced"
      },
      "outputs": [],
      "source": [
        "### LOADING DATA\n",
        "\n",
        "def data_loader_inputs(file_list):\n",
        "\n",
        "    file_save = \"Inputs_\" + file_list[0]\n",
        "    file_path = file_list[1]\n",
        "\n",
        "    HE_densities_all_slices = []\n",
        "    Total_densities_all_slices = []\n",
        "    gb_all_slices = []\n",
        "\n",
        "    for i in range(1,17):\n",
        "    \n",
        "        # HEden\n",
        "\n",
        "        file_name = file_path + '/HEdenTable_slice' + str(i) + '.csv'\n",
        "        density_data = np.genfromtxt(file_name, delimiter=',', encoding=\"utf8\")\n",
        "        HE_densities_all_slices.append(density_data)\n",
        "        #print(density_data.shape)\n",
        "\n",
        "        # TotalDen\n",
        "\n",
        "        file_name = file_path + '/TotalDenTable_slice' + str(i) + '.csv'\n",
        "        tot_density_data = np.genfromtxt(file_name, delimiter=',', encoding=\"utf8\")\n",
        "        Total_densities_all_slices.append(tot_density_data)  \n",
        "        #print(tot_density_data.shape)\n",
        "\n",
        "        # GB\n",
        "\n",
        "        file_name = file_path + '/GBtable_slice' + str(i) + '.csv'\n",
        "        gb_data = np.genfromtxt(file_name, delimiter=',', encoding=\"utf8\")\n",
        "        gb_data = np.delete(gb_data, -1, 1)\n",
        "        gb_data[np.isnan(gb_data)] = 0    \n",
        "        gb_all_slices.append(gb_data)\n",
        "        #print(gb_data.shape)\n",
        "\n",
        "    \n",
        "    HE_densities_all_slices = np.array(HE_densities_all_slices).reshape(-1,34,32,1)\n",
        "    Total_densities_all_slices = np.array(Total_densities_all_slices).reshape(-1,34,32,1)\n",
        "    gb_all_slices = np.array(gb_all_slices).reshape(-1,34,32,1)\n",
        "\n",
        "    #print(HE_densities_all_slices.shape)\n",
        "    #print(Total_densities_all_slices.shape)\n",
        "    #print(gb_all_slices.shape)\n",
        "\n",
        "    ### PUTTING INPUTS TOGETHER\n",
        "\n",
        "    pbx_inputs = np.concatenate((HE_densities_all_slices, Total_densities_all_slices, gb_all_slices), axis=3)\n",
        "    #print(pbx_inputs.shape)\n",
        "\n",
        "    #### EXTENDING INPUTS\n",
        "\n",
        "    pbx_inputs = pbx_inputs.reshape(16,34,32,3)  \n",
        "    np.save(file_save, pbx_inputs)\n",
        "\n",
        "    return pbx_inputs"
      ]
    },
    {
      "cell_type": "code",
      "execution_count": 7,
      "id": "36be9280",
      "metadata": {
        "id": "36be9280"
      },
      "outputs": [],
      "source": [
        "### LOADING DATA / OUTPUTS\n",
        "\n",
        "def data_loader_outputs(file_list):\n",
        "      ### LOADING TEMPERATURES\n",
        "    file_save = \"TemperatureMap_\" + file_list[0]\n",
        "    file_path = file_list[1]\n",
        "\n",
        "    temperatures_all_slices = []\n",
        "\n",
        "    for i in range(1,17):\n",
        "        \n",
        "        file_name = file_path + '/TempTable_slice' + str(i) + '.csv'\n",
        "        temp_data = np.genfromtxt(file_name, delimiter=',', encoding=\"utf8\")\n",
        "        # temp_data[np.isnan(temp_data)] = 0\n",
        "        # temp_data = np.delete(temp_data, -1, 1)\n",
        "        temp_data = temp_data/1000\n",
        "        #print(temp_data.shape)\n",
        "        temperatures_all_slices.append(temp_data)\n",
        "\n",
        "    temperatures_all_slices= np.array(temperatures_all_slices)\n",
        "    #print(temperatures_all_slices.shape)  \n",
        "\n",
        "    #### EXTENDING OUTPUTS\n",
        "\n",
        "    temperatures_all_slices = temperatures_all_slices.reshape(16,32,32,1)\n",
        "    np.save(file_save, temperatures_all_slices)\n",
        "\n",
        "    return temperatures_all_slices"
      ]
    },
    {
      "cell_type": "code",
      "execution_count": 8,
      "id": "703fc89c",
      "metadata": {
        "id": "703fc89c"
      },
      "outputs": [],
      "source": [
        "# DATA\n",
        "\n",
        "paths = [[\"PBX_PS14,7_Spherical_Oriented_Bottom.npy\"           , '/content/drive/MyDrive/PBX/PBXdatasets_small/smallPBX1/bin2nm_doublepad/btm'],\n",
        "         [\"PBX_PS14,7_Spherical_Oriented_Top.npy\"              , '/content/drive/MyDrive/PBX/PBXdatasets_small/smallPBX1/bin2nm_doublepad/top'],\n",
        "         [\"PBX_PS14,7_Spherical_Oriented_Bottom_Mirrored.npy\"  , '/content/drive/MyDrive/PBX/PBXdatasets_small/smallPBX1/bin2nm_doublepad_mirror/btm'],\n",
        "         [\"PBX_PS14,7_Spherical_Oriented_Top_Mirrored.npy\"     , '/content/drive/MyDrive/PBX/PBXdatasets_small/smallPBX1/bin2nm_doublepad_mirror/top'],\n",
        "         \n",
        "         [\"PBX_PS9,5_Spherical_Oriented_Bottom.npy\"           , '/content/drive/MyDrive/PBX/PBXdatasets_small/smallPBX2/bin2nm_doublepad/btm'],\n",
        "         [\"PBX_PS9,5_Spherical_Oriented_Top.npy\"              , '/content/drive/MyDrive/PBX/PBXdatasets_small/smallPBX2/bin2nm_doublepad/top'],\n",
        "         [\"PBX_PS9,5_Spherical_Oriented_Bottom_Mirrored.npy\"  , '/content/drive/MyDrive/PBX/PBXdatasets_small/smallPBX2/bin2nm_doublepad_mirror/btm'],\n",
        "         [\"PBX_PS9,5_Spherical_Oriented_Top_Mirrored.npy\"     , '/content/drive/MyDrive/PBX/PBXdatasets_small/smallPBX2/bin2nm_doublepad_mirror/top'],\n",
        "\n",
        "         [\"PBX_PS9,5_Spherical_Random_Bottom.npy\"           , '/content/drive/MyDrive/PBX/PBXdatasets_small/smallPBX3/bin2nm_doublepad/btm'],\n",
        "         [\"PBX_PS9,5_Spherical_Random_Top.npy\"              , '/content/drive/MyDrive/PBX/PBXdatasets_small/smallPBX3/bin2nm_doublepad/top'],\n",
        "         [\"PBX_PS9,5_Spherical_Random_Bottom_Mirrored.npy\"  , '/content/drive/MyDrive/PBX/PBXdatasets_small/smallPBX3/bin2nm_doublepad_mirror/btm'],\n",
        "         [\"PBX_PS9,5_Spherical_Random_Top_Mirrored.npy\"     , '/content/drive/MyDrive/PBX/PBXdatasets_small/smallPBX3/bin2nm_doublepad_mirror/top'],\n",
        "\n",
        "         [\"PBX_PS9,6_Faceted_Random_Bottom.npy\"           , '/content/drive/MyDrive/PBX/PBXdatasets_small/smallPBX4/bin2nm_doublepad/btm'],\n",
        "         [\"PBX_PS9,6_Faceted_Random_Top.npy\"              , '/content/drive/MyDrive/PBX/PBXdatasets_small/smallPBX4/bin2nm_doublepad/top'],\n",
        "         [\"PBX_PS9,6_Faceted_Random_Bottom_Mirrored.npy\"  , '/content/drive/MyDrive/PBX/PBXdatasets_small/smallPBX4/bin2nm_doublepad_mirror/btm'],\n",
        "         [\"PBX_PS9,6_Faceted_Random_Top_Mirrored.npy\"     , '/content/drive/MyDrive/PBX/PBXdatasets_small/smallPBX4/bin2nm_doublepad_mirror/top'],\n",
        "\n",
        "         [\"PBX_PS14,7_Spherical_Random_Bottom_Sim1.npy\"           , '/content/drive/MyDrive/PBX/PBXdatasets_small/smallPBX6/bin2nm_doublepad/btm'],\n",
        "         [\"PBX_PS14,7_Spherical_Random_Top_Sim1.npy\"              , '/content/drive/MyDrive/PBX/PBXdatasets_small/smallPBX6/bin2nm_doublepad/top'],\n",
        "         [\"PBX_PS14,7_Spherical_Random_Bottom_Mirrored_Sim1.npy\"  , '/content/drive/MyDrive/PBX/PBXdatasets_small/smallPBX6/bin2nm_doublepad_mirror/btm'],\n",
        "         [\"PBX_PS14,7_Spherical_Random_Top_Mirrored_Sim1.npy\"     , '/content/drive/MyDrive/PBX/PBXdatasets_small/smallPBX6/bin2nm_doublepad_mirror/top'],\n",
        "         \n",
        "         [\"PBX_PS14,7_Spherical_Random_Bottom_Sim2.npy\"            , '/content/drive/MyDrive/PBX/PBXdatasets_small/smallPBX7/bin2nm_doublepad/btm'],\n",
        "         [\"PBX_PS14,7_Spherical_Random_Top_Sim2.npy\"               , '/content/drive/MyDrive/PBX/PBXdatasets_small/smallPBX7/bin2nm_doublepad/top'],\n",
        "         [\"PBX_PS14,7_Spherical_Random_Bottom_Mirrored_Sim2.npy\"   , '/content/drive/MyDrive/PBX/PBXdatasets_small/smallPBX7/bin2nm_doublepad_mirror/btm'],\n",
        "         [\"PBX_PS14,7_Spherical_Random_Top_Mirrored_Sim2.npy\"      , '/content/drive/MyDrive/PBX/PBXdatasets_small/smallPBX7/bin2nm_doublepad_mirror/top'],\n",
        "       \n",
        "]\n",
        "\n",
        "test_paths = [\n",
        "    [\"Test5_Bottom.npy\", \"/content/drive/MyDrive/PBX/PBXdatasets_small/testPBX5/btm\"],\n",
        "    [\"Test5_Top.npy\", \"/content/drive/MyDrive/PBX/PBXdatasets_small/testPBX5/top\"]\n",
        "]\n",
        "\n",
        "# for i in paths:\n",
        "#     data_loader_inputs(i)\n",
        "#     data_loader_outputs(i)\n",
        "\n",
        "for j in test_paths:\n",
        "    data_loader_inputs(j)"
      ]
    },
    {
      "cell_type": "code",
      "source": [],
      "metadata": {
        "id": "8XrQzFBokLx3"
      },
      "id": "8XrQzFBokLx3",
      "execution_count": null,
      "outputs": []
    }
  ],
  "metadata": {
    "kernelspec": {
      "display_name": "Python 3.8",
      "language": "python",
      "name": "python3"
    },
    "language_info": {
      "codemirror_mode": {
        "name": "ipython",
        "version": 3
      },
      "file_extension": ".py",
      "mimetype": "text/x-python",
      "name": "python",
      "nbconvert_exporter": "python",
      "pygments_lexer": "ipython3",
      "version": "3.8.10"
    },
    "colab": {
      "provenance": [],
      "include_colab_link": true
    }
  },
  "nbformat": 4,
  "nbformat_minor": 5
}